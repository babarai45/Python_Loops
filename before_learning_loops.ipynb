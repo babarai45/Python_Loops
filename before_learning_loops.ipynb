{
 "cells": [
  {
   "cell_type": "markdown",
   "metadata": {},
   "source": [
    "# what is conditional statement in python?"
   ]
  },
  {
   "cell_type": "code",
   "execution_count": null,
   "metadata": {},
   "outputs": [],
   "source": [
    "#what is conditional statement in python?\n",
    "#A conditional statement is a multiway branch statement that provides \n",
    "# a way to test multiple conditions and execute the code based on the \n",
    "# conditions that are true or false.\n",
    "\n",
    "#The conditional statement is also known as the if-then-else statement\n",
    "\n",
    "# conditional statement called decision making statement \n",
    "# or branching statement or selection statement or \n",
    "\n",
    "# multiway branch statement or multiway selection statement \n",
    "# or multiway decision statement or multiway branching statement.\n",
    "\n",
    "# The conditional statement is used to make a decision based on the\n",
    "# condition that is true or false.\n",
    "\n",
    "# types of conditional statement in python\n",
    "# 1. if statement\n",
    "# 2. if-else statement\n",
    "# 3. if-elif-else statement\n",
    "# 4. nested if statement\n",
    "# 5. nested if-else statement\n",
    "# 6. nested if-elif-else statement\n",
    "# 7. ternary operator or conditional expression\n",
    "# 8. nested ternary operator or nested conditional expression\n",
    "# 9. chained conditional statement\n",
    "# 10. conditional expression\n",
    "# 11. pass statement\n",
    "# 12. assert statement\n",
    "\n"
   ]
  },
  {
   "cell_type": "markdown",
   "metadata": {},
   "source": [
    "# what is looping  statement in python?"
   ]
  },
  {
   "cell_type": "code",
   "execution_count": null,
   "metadata": {},
   "outputs": [],
   "source": [
    "# what is looping statment in python ?\n",
    "# A loop is a sequence of instructions that is continually repeated\n",
    "# until a certain condition is reached. In python, there are two types\n",
    "# of loops. They are  1. while loop  2. for loop \n"
   ]
  }
 ],
 "metadata": {
  "language_info": {
   "name": "python"
  }
 },
 "nbformat": 4,
 "nbformat_minor": 2
}
